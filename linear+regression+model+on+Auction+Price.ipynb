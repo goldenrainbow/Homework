{
 "cells": [
  {
   "cell_type": "code",
   "execution_count": 1,
   "metadata": {},
   "outputs": [
    {
     "name": "stderr",
     "output_type": "stream",
     "text": [
      "/Users/LJin/anaconda3/lib/python3.6/site-packages/IPython/core/interactiveshell.py:2698: DtypeWarning: Columns (13,39,40,41) have mixed types. Specify dtype option on import or set low_memory=False.\n",
      "  interactivity=interactivity, compiler=compiler, result=result)\n"
     ]
    },
    {
     "data": {
      "text/plain": [
       "(401125, 53)"
      ]
     },
     "execution_count": 1,
     "metadata": {},
     "output_type": "execute_result"
    }
   ],
   "source": [
    "#First import the dataset. Check sample size and number of features:\n",
    "import pandas as pd\n",
    "import numpy as np\n",
    "import matplotlib.pyplot as plt\n",
    "import seaborn as sns\n",
    "%matplotlib inline\n",
    "df_orig=pd.read_csv(\"/Users/LJin/Documents/ds-case-study-linear-models-master/predict_auction_price/data/Train.csv\")\n",
    "df_orig.shape"
   ]
  },
  {
   "cell_type": "code",
   "execution_count": 2,
   "metadata": {
    "collapsed": true
   },
   "outputs": [],
   "source": [
    "#Look at types of columns\n",
    "dtype_df = df_orig.dtypes.reset_index()\n",
    "dtype_df.columns=['count','column type']\n",
    "dtype_df.groupby('column type').aggregate('count')\n",
    "df_column_null = df_orig.isnull().sum().sort_values(ascending=False).reset_index()\n",
    "\n",
    "#Get rid of features that have more than 1/4 of total sample missing values\n",
    "df_column_null.columns = ['feature','count_of_missing']\n",
    "df_column_removed20miss = df_column_null[df_column_null['count_of_missing']<df_orig.shape[0]/4].reset_index()\n",
    "\n",
    "#df is the new dataframe after removing those features\n",
    "df_keep = df_orig[list(df_column_removed20miss['feature'])]"
   ]
  },
  {
   "cell_type": "code",
   "execution_count": 3,
   "metadata": {},
   "outputs": [
    {
     "data": {
      "text/plain": [
       "Index(['Hydraulics', 'auctioneerID', 'Enclosure', 'ProductGroupDesc',\n",
       "       'YearMade', 'SalePrice', 'MachineID', 'ModelID', 'datasource',\n",
       "       'saledate', 'ProductGroup', 'fiModelDesc', 'fiBaseModel',\n",
       "       'fiProductClassDesc', 'state', 'SalesID'],\n",
       "      dtype='object')"
      ]
     },
     "execution_count": 3,
     "metadata": {},
     "output_type": "execute_result"
    }
   ],
   "source": [
    "#Drop all the rows that have missing values. Updated dataframe is called df_keep\n",
    "df_keep = df_keep.dropna(how='any')\n",
    "df_keep.columns"
   ]
  },
  {
   "cell_type": "code",
   "execution_count": 4,
   "metadata": {
    "collapsed": true
   },
   "outputs": [],
   "source": [
    "#Change 'YearMade' 1000 to missing values, then fill them with median year\n",
    "df_keep['YearMade']=np.where(df_keep['YearMade']==1000,df_keep['YearMade'].median(),df_keep['YearMade'])\n",
    "\n",
    "#Create new features 'Age' based on 'YearMade'\n",
    "df_keep['Age'] = (datetime.datetime.now().year - df_keep['YearMade'])\n",
    "\n",
    "#create new feature 'sale_year' based on 'saledate'\n",
    "import datetime\n",
    "df_keep['sale_year'] = df_keep['saledate'].apply(lambda x: pd.datetime.strptime(x, '%m/%d/%Y %H:%M').year)"
   ]
  },
  {
   "cell_type": "code",
   "execution_count": 5,
   "metadata": {
    "collapsed": true
   },
   "outputs": [],
   "source": [
    "#Standardize 'Age' and 'sale_year'\n",
    "from sklearn.preprocessing import StandardScaler\n",
    "Scaler=StandardScaler()\n",
    "df_keep['sale_year']=Scaler.fit_transform(df_keep[['sale_year','Age']])[:,0]\n",
    "df_keep['Age']=Scaler.fit_transform(df_keep[['sale_year','Age']])[:,1]"
   ]
  },
  {
   "cell_type": "code",
   "execution_count": 6,
   "metadata": {
    "collapsed": true
   },
   "outputs": [],
   "source": [
    "#do a log transformation on y 'SalePrice', call it 'SalePrice_log'\n",
    "df_keep['SalePrice_log']=np.log(df_keep['SalePrice'])"
   ]
  },
  {
   "cell_type": "code",
   "execution_count": 7,
   "metadata": {},
   "outputs": [
    {
     "data": {
      "text/html": [
       "<div>\n",
       "<style>\n",
       "    .dataframe thead tr:only-child th {\n",
       "        text-align: right;\n",
       "    }\n",
       "\n",
       "    .dataframe thead th {\n",
       "        text-align: left;\n",
       "    }\n",
       "\n",
       "    .dataframe tbody tr th {\n",
       "        vertical-align: top;\n",
       "    }\n",
       "</style>\n",
       "<table border=\"1\" class=\"dataframe\">\n",
       "  <thead>\n",
       "    <tr style=\"text-align: right;\">\n",
       "      <th></th>\n",
       "      <th>auctioneerID</th>\n",
       "      <th>Enclosure</th>\n",
       "      <th>ProductGroup</th>\n",
       "      <th>datasource</th>\n",
       "      <th>state</th>\n",
       "      <th>Age</th>\n",
       "      <th>sale_year</th>\n",
       "      <th>SalePrice_log</th>\n",
       "    </tr>\n",
       "  </thead>\n",
       "  <tbody>\n",
       "    <tr>\n",
       "      <th>0</th>\n",
       "      <td>3.0</td>\n",
       "      <td>EROPS w AC</td>\n",
       "      <td>WL</td>\n",
       "      <td>121</td>\n",
       "      <td>Alabama</td>\n",
       "      <td>-1.112415</td>\n",
       "      <td>0.352413</td>\n",
       "      <td>11.097410</td>\n",
       "    </tr>\n",
       "    <tr>\n",
       "      <th>1</th>\n",
       "      <td>3.0</td>\n",
       "      <td>EROPS w AC</td>\n",
       "      <td>WL</td>\n",
       "      <td>121</td>\n",
       "      <td>North Carolina</td>\n",
       "      <td>-0.287068</td>\n",
       "      <td>0.007787</td>\n",
       "      <td>10.950807</td>\n",
       "    </tr>\n",
       "    <tr>\n",
       "      <th>2</th>\n",
       "      <td>3.0</td>\n",
       "      <td>OROPS</td>\n",
       "      <td>SSL</td>\n",
       "      <td>121</td>\n",
       "      <td>New York</td>\n",
       "      <td>-0.802910</td>\n",
       "      <td>0.007787</td>\n",
       "      <td>9.210340</td>\n",
       "    </tr>\n",
       "    <tr>\n",
       "      <th>3</th>\n",
       "      <td>3.0</td>\n",
       "      <td>EROPS w AC</td>\n",
       "      <td>TEX</td>\n",
       "      <td>121</td>\n",
       "      <td>Texas</td>\n",
       "      <td>-0.802910</td>\n",
       "      <td>1.213975</td>\n",
       "      <td>10.558414</td>\n",
       "    </tr>\n",
       "    <tr>\n",
       "      <th>4</th>\n",
       "      <td>3.0</td>\n",
       "      <td>EROPS</td>\n",
       "      <td>SSL</td>\n",
       "      <td>121</td>\n",
       "      <td>New York</td>\n",
       "      <td>-1.421919</td>\n",
       "      <td>0.869350</td>\n",
       "      <td>9.305651</td>\n",
       "    </tr>\n",
       "  </tbody>\n",
       "</table>\n",
       "</div>"
      ],
      "text/plain": [
       "   auctioneerID   Enclosure ProductGroup  datasource           state  \\\n",
       "0           3.0  EROPS w AC           WL         121         Alabama   \n",
       "1           3.0  EROPS w AC           WL         121  North Carolina   \n",
       "2           3.0       OROPS          SSL         121        New York   \n",
       "3           3.0  EROPS w AC          TEX         121           Texas   \n",
       "4           3.0       EROPS          SSL         121        New York   \n",
       "\n",
       "        Age  sale_year  SalePrice_log  \n",
       "0 -1.112415   0.352413      11.097410  \n",
       "1 -0.287068   0.007787      10.950807  \n",
       "2 -0.802910   0.007787       9.210340  \n",
       "3 -0.802910   1.213975      10.558414  \n",
       "4 -1.421919   0.869350       9.305651  "
      ]
     },
     "execution_count": 7,
     "metadata": {},
     "output_type": "execute_result"
    }
   ],
   "source": [
    "#For the sake of simplicity, remove some more features that SEEM unrelated, such as 'Hydraulics','ProductGroupDesc'\n",
    "#(a high correlation with 'ProductGroup'), 'MachineID', 'ModelID', 'fiModelDesc', 'fiBaseModel','SalesID'\n",
    "\n",
    "#here's the final dataframe df\n",
    "df=df_keep[['auctioneerID','Enclosure','ProductGroup','datasource','state','Age','sale_year','SalePrice_log']]\n",
    "df.head()"
   ]
  },
  {
   "cell_type": "code",
   "execution_count": 8,
   "metadata": {},
   "outputs": [
    {
     "name": "stderr",
     "output_type": "stream",
     "text": [
      "/Users/LJin/anaconda3/lib/python3.6/site-packages/ipykernel_launcher.py:2: SettingWithCopyWarning: \n",
      "A value is trying to be set on a copy of a slice from a DataFrame.\n",
      "Try using .loc[row_indexer,col_indexer] = value instead\n",
      "\n",
      "See the caveats in the documentation: http://pandas.pydata.org/pandas-docs/stable/indexing.html#indexing-view-versus-copy\n",
      "  \n",
      "/Users/LJin/anaconda3/lib/python3.6/site-packages/ipykernel_launcher.py:3: SettingWithCopyWarning: \n",
      "A value is trying to be set on a copy of a slice from a DataFrame.\n",
      "Try using .loc[row_indexer,col_indexer] = value instead\n",
      "\n",
      "See the caveats in the documentation: http://pandas.pydata.org/pandas-docs/stable/indexing.html#indexing-view-versus-copy\n",
      "  This is separate from the ipykernel package so we can avoid doing imports until\n"
     ]
    }
   ],
   "source": [
    "#transform categorical to dummy variables\n",
    "df['auctioneerID']=df['auctioneerID'].astype(str)\n",
    "df['datasource']=df['datasource'].astype(str)\n",
    "df=pd.get_dummies(df,columns=['auctioneerID','Enclosure','ProductGroup','state','datasource'])"
   ]
  },
  {
   "cell_type": "code",
   "execution_count": 9,
   "metadata": {},
   "outputs": [
    {
     "data": {
      "text/plain": [
       "((244120, 98), (61031, 98))"
      ]
     },
     "execution_count": 9,
     "metadata": {},
     "output_type": "execute_result"
    }
   ],
   "source": [
    "#separate the dataframe to X and y, prepare for model fitting\n",
    "X=df.drop('SalePrice_log',1)\n",
    "y=df['SalePrice_log']\n",
    "\n",
    "#split X and y into train and test\n",
    "from sklearn.model_selection import train_test_split\n",
    "X_train,X_test,y_train,y_test=train_test_split(X,y,test_size=0.2,random_state=42)\n",
    "X_train.shape,X_test.shape"
   ]
  },
  {
   "cell_type": "code",
   "execution_count": 10,
   "metadata": {
    "collapsed": true
   },
   "outputs": [],
   "source": [
    "#create linear model called 'estimator', use RFECV on 'estimator', call it 'Selector'\n",
    "from sklearn.feature_selection import RFECV\n",
    "from sklearn import linear_model\n",
    "estimator = linear_model.LinearRegression()\n",
    "Selector = RFECV(estimator)"
   ]
  },
  {
   "cell_type": "code",
   "execution_count": null,
   "metadata": {
    "collapsed": true
   },
   "outputs": [],
   "source": [
    "#trying to fit 'Selector' gives me the problem......\n",
    "Selector.fit(X_train,y_train)"
   ]
  }
 ],
 "metadata": {
  "kernelspec": {
   "display_name": "Python 3",
   "language": "python",
   "name": "python3"
  },
  "language_info": {
   "codemirror_mode": {
    "name": "ipython",
    "version": 3
   },
   "file_extension": ".py",
   "mimetype": "text/x-python",
   "name": "python",
   "nbconvert_exporter": "python",
   "pygments_lexer": "ipython3",
   "version": "3.6.3"
  }
 },
 "nbformat": 4,
 "nbformat_minor": 2
}
